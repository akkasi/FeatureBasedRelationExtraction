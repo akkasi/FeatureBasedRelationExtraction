{
 "cells": [
  {
   "cell_type": "code",
   "execution_count": 58,
   "metadata": {},
   "outputs": [],
   "source": [
    "import pandas as pd\n",
    "import re\n",
    "import numpy as np\n",
    "import matplotlib.pyplot as plt\n",
    "from nltk.corpus import stopwords\n",
    "from nltk.stem import PorterStemmer, WordNetLemmatizer\n",
    "from sklearn.feature_extraction.text import CountVectorizer, TfidfVectorizer\n",
    "from sklearn.pipeline import Pipeline\n",
    "from sklearn.metrics import classification_report,confusion_matrix, f1_score, precision_score, recall_score\n",
    "from sklearn.model_selection import train_test_split\n",
    "from sklearn.feature_selection import chi2,SelectKBest\n",
    "from sklearn.ensemble import RandomForestClassifier\n",
    "from sklearn.svm import SVC\n",
    "import  pickle\n",
    "import unicodedata\n",
    "import codecs\n",
    "from string import punctuation\n",
    "%matplotlib inline"
   ]
  },
  {
   "cell_type": "code",
   "execution_count": 34,
   "metadata": {},
   "outputs": [
    {
     "name": "stdout",
     "output_type": "stream",
     "text": [
      "Index(['text', 'relation'], dtype='object')\n"
     ]
    },
    {
     "data": {
      "text/html": [
       "<div>\n",
       "<style scoped>\n",
       "    .dataframe tbody tr th:only-of-type {\n",
       "        vertical-align: middle;\n",
       "    }\n",
       "\n",
       "    .dataframe tbody tr th {\n",
       "        vertical-align: top;\n",
       "    }\n",
       "\n",
       "    .dataframe thead th {\n",
       "        text-align: right;\n",
       "    }\n",
       "</style>\n",
       "<table border=\"1\" class=\"dataframe\">\n",
       "  <thead>\n",
       "    <tr style=\"text-align: right;\">\n",
       "      <th></th>\n",
       "      <th>text</th>\n",
       "      <th>relation</th>\n",
       "    </tr>\n",
       "  </thead>\n",
       "  <tbody>\n",
       "    <tr>\n",
       "      <th>0</th>\n",
       "      <td>PKB directly phosphorylates DAF-16 / FOXO and ...</td>\n",
       "      <td>1</td>\n",
       "    </tr>\n",
       "    <tr>\n",
       "      <th>1</th>\n",
       "      <td>PKB directly phosphorylates DAF-16 / FOXO and ...</td>\n",
       "      <td>1</td>\n",
       "    </tr>\n",
       "    <tr>\n",
       "      <th>2</th>\n",
       "      <td>The fact that Tax1 interacts with ATFx adds an...</td>\n",
       "      <td>0</td>\n",
       "    </tr>\n",
       "    <tr>\n",
       "      <th>3</th>\n",
       "      <td>Nuclear import and export of Tax1 are both car...</td>\n",
       "      <td>0</td>\n",
       "    </tr>\n",
       "    <tr>\n",
       "      <th>4</th>\n",
       "      <td>NF-kappaB activation involves phosphorylation ...</td>\n",
       "      <td>0</td>\n",
       "    </tr>\n",
       "  </tbody>\n",
       "</table>\n",
       "</div>"
      ],
      "text/plain": [
       "                                                text  relation\n",
       "0  PKB directly phosphorylates DAF-16 / FOXO and ...         1\n",
       "1  PKB directly phosphorylates DAF-16 / FOXO and ...         1\n",
       "2  The fact that Tax1 interacts with ATFx adds an...         0\n",
       "3  Nuclear import and export of Tax1 are both car...         0\n",
       "4  NF-kappaB activation involves phosphorylation ...         0"
      ]
     },
     "execution_count": 34,
     "metadata": {},
     "output_type": "execute_result"
    }
   ],
   "source": [
    "df = pd.read_csv('data/annotation.csv')\n",
    "print(df.columns)\n",
    "df.head()"
   ]
  },
  {
   "cell_type": "code",
   "execution_count": 28,
   "metadata": {},
   "outputs": [
    {
     "data": {
      "image/png": "[encoded data removed]",
      "text/plain": [
       "<Figure size 432x288 with 1 Axes>"
      ]
     },
     "metadata": {
      "needs_background": "light"
     },
     "output_type": "display_data"
    }
   ],
   "source": [
    "df.groupby('relation').text.count().plot.bar(ylim=0)\n",
    "plt.show()"
   ]
  },
  {
   "cell_type": "code",
   "execution_count": 44,
   "metadata": {},
   "outputs": [],
   "source": [
    "def TextPreprocessing(text):\n",
    "    stemmer = WordNetLemmatizer()\n",
    "#     stemmer = PorterStemmer()\n",
    "    text = text.lower()\n",
    "    def strip_punctuation(s):\n",
    "        return ''.join(c for c in s if c not in punctuation)\n",
    "    def unicodeToAscii(s):\n",
    "        return ''.join(c for c in unicodedata.normalize('NFD', s) if unicodedata.category(c) != 'Mn')           \n",
    "    def normalizeString(s):\n",
    "        s = unicodeToAscii(s.lower().strip())\n",
    "        #remove numbers\n",
    "#         s = re.sub(r'\\d+', '', s)\n",
    "        # remove all single characters\n",
    "        s = re.sub(r'\\s+[a-zA-Z]\\s+', ' ', s)\n",
    "        # Remove single characters from the start\n",
    "        s = re.sub(r'\\^[a-zA-Z]\\s+', ' ', s) \n",
    "        # Substituting multiple spaces with single space\n",
    "        s = re.sub(r'\\s+', ' ', s, flags=re.I)\n",
    "        # Removing prefixed 'b'\n",
    "        s = re.sub(r'^b\\s+', '', s)\n",
    "        # Lemmatization\n",
    "        s = s.split()\n",
    "        s = [stemmer.lemmatize(word) for word in s]\n",
    "#         s = [stemmer.stem(word) for word in s]\n",
    "        s = ' '.join(s)\n",
    "#         s =  strip_punctuation(s)\n",
    "        return s\n",
    "    \n",
    "    doc = normalizeString(text)\n",
    "    return doc\n"
   ]
  },
  {
   "cell_type": "code",
   "execution_count": 45,
   "metadata": {
    "scrolled": false
   },
   "outputs": [
    {
     "data": {
      "text/html": [
       "<div>\n",
       "<style scoped>\n",
       "    .dataframe tbody tr th:only-of-type {\n",
       "        vertical-align: middle;\n",
       "    }\n",
       "\n",
       "    .dataframe tbody tr th {\n",
       "        vertical-align: top;\n",
       "    }\n",
       "\n",
       "    .dataframe thead th {\n",
       "        text-align: right;\n",
       "    }\n",
       "</style>\n",
       "<table border=\"1\" class=\"dataframe\">\n",
       "  <thead>\n",
       "    <tr style=\"text-align: right;\">\n",
       "      <th></th>\n",
       "      <th>text</th>\n",
       "      <th>relation</th>\n",
       "      <th>cleaned</th>\n",
       "    </tr>\n",
       "  </thead>\n",
       "  <tbody>\n",
       "    <tr>\n",
       "      <th>0</th>\n",
       "      <td>PKB directly phosphorylates DAF-16 / FOXO and ...</td>\n",
       "      <td>1</td>\n",
       "      <td>pkb directly phosphorylates daf-16 / foxo and ...</td>\n",
       "    </tr>\n",
       "    <tr>\n",
       "      <th>1</th>\n",
       "      <td>PKB directly phosphorylates DAF-16 / FOXO and ...</td>\n",
       "      <td>1</td>\n",
       "      <td>pkb directly phosphorylates daf-16 / foxo and ...</td>\n",
       "    </tr>\n",
       "    <tr>\n",
       "      <th>2</th>\n",
       "      <td>The fact that Tax1 interacts with ATFx adds an...</td>\n",
       "      <td>0</td>\n",
       "      <td>the fact that tax1 interacts with atfx add ano...</td>\n",
       "    </tr>\n",
       "    <tr>\n",
       "      <th>3</th>\n",
       "      <td>Nuclear import and export of Tax1 are both car...</td>\n",
       "      <td>0</td>\n",
       "      <td>nuclear import and export of tax1 are both car...</td>\n",
       "    </tr>\n",
       "    <tr>\n",
       "      <th>4</th>\n",
       "      <td>NF-kappaB activation involves phosphorylation ...</td>\n",
       "      <td>0</td>\n",
       "      <td>nf-kappab activation involves phosphorylation ...</td>\n",
       "    </tr>\n",
       "  </tbody>\n",
       "</table>\n",
       "</div>"
      ],
      "text/plain": [
       "                                                text  relation  \\\n",
       "0  PKB directly phosphorylates DAF-16 / FOXO and ...         1   \n",
       "1  PKB directly phosphorylates DAF-16 / FOXO and ...         1   \n",
       "2  The fact that Tax1 interacts with ATFx adds an...         0   \n",
       "3  Nuclear import and export of Tax1 are both car...         0   \n",
       "4  NF-kappaB activation involves phosphorylation ...         0   \n",
       "\n",
       "                                             cleaned  \n",
       "0  pkb directly phosphorylates daf-16 / foxo and ...  \n",
       "1  pkb directly phosphorylates daf-16 / foxo and ...  \n",
       "2  the fact that tax1 interacts with atfx add ano...  \n",
       "3  nuclear import and export of tax1 are both car...  \n",
       "4  nf-kappab activation involves phosphorylation ...  "
      ]
     },
     "execution_count": 45,
     "metadata": {},
     "output_type": "execute_result"
    }
   ],
   "source": [
    "df['cleaned'] = df['text'].apply(TextPreprocessing)\n",
    "df.head()"
   ]
  },
  {
   "cell_type": "code",
   "execution_count": 51,
   "metadata": {},
   "outputs": [
    {
     "data": {
      "text/plain": [
       "(827, 3915)"
      ]
     },
     "execution_count": 51,
     "metadata": {},
     "output_type": "execute_result"
    }
   ],
   "source": [
    "vectorizer = TfidfVectorizer(min_df=3,stop_words='english',sublinear_tf=True,norm='l2', \n",
    "                                 ngram_range=(1,3))\n",
    "def featureExtractor(data):    \n",
    "    final_features = vectorizer.fit_transform(data).toarray()\n",
    "    return final_features\n",
    "ff = featureExtractor(df['cleaned'])\n",
    "ff.shape"
   ]
  },
  {
   "cell_type": "code",
   "execution_count": 49,
   "metadata": {},
   "outputs": [],
   "source": [
    "X = df['cleaned']\n",
    "Y = df['relation']\n",
    "X_train,X_test,Y_train,Y_test = train_test_split(X,Y,test_size = .25,random_state=123,stratify=Y)"
   ]
  },
  {
   "cell_type": "code",
   "execution_count": 61,
   "metadata": {
    "scrolled": false
   },
   "outputs": [
    {
     "name": "stdout",
     "output_type": "stream",
     "text": [
      "              precision    recall  f1-score   support\n",
      "\n",
      "           0       0.80      0.92      0.86       159\n",
      "           1       0.42      0.24      0.31        41\n",
      "           2       0.00      0.00      0.00         7\n",
      "\n",
      "   micro avg       0.75      0.75      0.75       207\n",
      "   macro avg       0.41      0.39      0.39       207\n",
      "weighted avg       0.70      0.75      0.72       207\n",
      "\n",
      "[[146  13   0]\n",
      " [ 30  10   1]\n",
      " [  6   1   0]]\n",
      "F1Score is:  0.273972602739726\n",
      "Precision is:  0.4\n",
      "Recall:  0.20833333333333334\n"
     ]
    },
    {
     "name": "stderr",
     "output_type": "stream",
     "text": [
      "/home/akkasi/.local/lib/python3.6/site-packages/sklearn/ensemble/forest.py:246: FutureWarning: The default value of n_estimators will change from 10 in version 0.20 to 100 in 0.22.\n",
      "  \"10 in version 0.20 to 100 in 0.22.\", FutureWarning)\n"
     ]
    }
   ],
   "source": [
    "pipeline = Pipeline([('vect',vectorizer),\n",
    "                    ('chi', SelectKBest(chi2,k=1200)),\n",
    "                    ('clf',RandomForestClassifier())])\n",
    "model = pipeline.fit(X_train,Y_train)\n",
    "with open('RandomForest.pickle','wb') as f:\n",
    "    pickle.dump(model,f)\n",
    "Ytest = np.array(Y_test)\n",
    "print(classification_report(Ytest,model.predict(X_test)))\n",
    "print(confusion_matrix(Ytest, model.predict(X_test)))\n",
    "print('F1Score is: ', f1_score(Ytest, model.predict(X_test),labels=[1,2],average='micro' ))\n",
    "print('Precision is: ', precision_score(Ytest, model.predict(X_test),labels=[1,2],average='micro' ))\n",
    "print('Recall: ', recall_score(Ytest, model.predict(X_test),labels=[1,2],average='micro' ))"
   ]
  },
  {
   "cell_type": "code",
   "execution_count": 67,
   "metadata": {},
   "outputs": [
    {
     "name": "stdout",
     "output_type": "stream",
     "text": [
      "Cross-validated scores: [0.8452381  0.75       0.72619048 0.75903614 0.71084337 0.73493976\n",
      " 0.72289157 0.75308642 0.71604938 0.74074074]\n"
     ]
    }
   ],
   "source": [
    "from sklearn.model_selection import cross_val_predict, cross_val_score\n",
    "from sklearn import metrics\n",
    "scores = cross_val_score(model, X, Y, cv=10)\n",
    "print ('Cross-validated scores:', scores)\n"
   ]
  },
  {
   "cell_type": "code",
   "execution_count": 68,
   "metadata": {},
   "outputs": [
    {
     "data": {
      "text/plain": [
       "<matplotlib.collections.PathCollection at 0x7ff2a5f4d978>"
      ]
     },
     "execution_count": 68,
     "metadata": {},
     "output_type": "execute_result"
    },
    {
     "data": {
      "image/png": "[encoded data removed]",
      "text/plain": [
       "<Figure size 432x288 with 1 Axes>"
      ]
     },
     "metadata": {
      "needs_background": "light"
     },
     "output_type": "display_data"
    }
   ],
   "source": [
    "predictions = cross_val_predict(model, X, Y, cv=10)\n",
    "plt.scatter(Y, predictions)"
   ]
  },
  {
   "cell_type": "code",
   "execution_count": 73,
   "metadata": {},
   "outputs": [
    {
     "data": {
      "text/plain": [
       "0.21739130434782608"
      ]
     },
     "execution_count": 73,
     "metadata": {},
     "output_type": "execute_result"
    }
   ],
   "source": [
    "f1_score = metrics.f1_score(Y, predictions,average='micro',labels=[1,2])\n",
    "f1_score"
   ]
  }
 ],
 "metadata": {
  "kernelspec": {
   "display_name": "Python 3",
   "language": "python",
   "name": "python3"
  },
  "language_info": {
   "codemirror_mode": {
    "name": "ipython",
    "version": 3
   },
   "file_extension": ".py",
   "mimetype": "text/x-python",
   "name": "python",
   "nbconvert_exporter": "python",
   "pygments_lexer": "ipython3",
   "version": "3.6.8"
  }
 },
 "nbformat": 4,
 "nbformat_minor": 2
}
